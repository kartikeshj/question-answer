{
  "nbformat": 4,
  "nbformat_minor": 0,
  "metadata": {
    "colab": {
      "provenance": []
    },
    "kernelspec": {
      "name": "python3",
      "display_name": "Python 3"
    },
    "language_info": {
      "name": "python"
    }
  },
  "cells": [
    {
      "cell_type": "markdown",
      "source": [
        "1. What is Python, and why is it popular\n",
        "Answer:\n",
        "Python is a high-level, interpreted programming language known for its simplicity and\n",
        "readability. It supports multiple programming paradigms, including procedural, object\n",
        "oriented, and functional programming.\n",
        "Reasons for popularity:\n",
        " Easy syntax, similar to English\n",
        " Large standard library\n",
        " Strong community support\n",
        " Versatile (used in web development, data science, automation, AI, etc.)\n",
        " Platform-independent\n",
        "2. What is an interpreter in Python\n",
        "Answer:\n",
        "An interpreter in Python is a program that reads and executes Python code line by line. It\n",
        "converts high-level Python code into machine-readable instructions at runtime, allowing for\n",
        "dynamic execution and debugging.\n",
        "3. What are pre-defined keywords in Python\n",
        "Answer:\n",
        "Pre-defined keywords are reserved words in Python that have special meaning and are part of\n",
        "the language syntax. Examples include if, else, for, while, True, False, def, class,\n",
        "import, etc.\n",
        "4. Can keywords be used as variable names\n",
        "Answer:\n",
        "No, keywords cannot be used as variable names in Python. Doing so will result in a syntax\n",
        "error because keywords are reserved for specific language functions.\n",
        "5. What is mutability in Python\n",
        "Answer:\n",
        "Mutability refers to whether an object’s value can be changed after it is created.\n",
        " Mutable objects can be changed (e.g., lists, dictionaries).\n",
        " Immutable objects cannot be changed (e.g., tuples, strings, integers).\n",
        "6. Why are lists mutable, but tuples are immutable\n",
        "Answer:\n",
        "Lists are designed to store dynamic collections of items, allowing modifications like adding,\n",
        "removing, or changing elements. Tuples, on the other hand, are meant to represent fixed\n",
        "collections, ensuring data integrity and faster performance due to immutability.\n",
        "7. What is the difference between “==” and “is” operators in Python\n",
        "Answer:\n",
        " == checks value equality (whether two variables have the same value).\n",
        " is checks identity (whether two variables point to the same object in memory).\n",
        "8. What are logical operators in Python\n",
        "Answer:\n",
        "Logical operators are used to combine conditional statements:\n",
        " and: True if both operands are true\n",
        " or: True if at least one operand is true\n",
        " not: Inverts the truth value\n",
        "9. What is type casting in Python\n",
        "Answer:\n",
        "Type casting is the process of converting one data type into another. For example, converting\n",
        "an integer to a string using str(5) or a float to an integer using int(3.14).\n",
        "10. What is the difference between implicit and explicit type casting\n",
        "Answer:\n",
        " Implicit casting is done automatically by Python (e.g., int + float results in a\n",
        "float).\n",
        " Explicit casting is done manually by the programmer using functions like int(),\n",
        "float(), str().\n",
        "11. What is the purpose of conditional statements in Python\n",
        "Answer:\n",
        "Conditional statements allow the program to make decisions and execute different code\n",
        "blocks based on certain conditions. They include if, elif, and else.\n",
        "12. How does the elif statement work\n",
        "Answer:\n",
        "elif stands for \"else if\" and is used to check multiple conditions after an initial if. If the if\n",
        "condition is false, Python checks each elif condition in order until one is true or it reaches\n",
        "else.\n",
        "13. What is the difference between for and while loops\n",
        "Answer:\n",
        " for loop is used when the number of iterations is known or finite (e.g., iterating over\n",
        "a list).\n",
        " while loop is used when the condition is evaluated dynamically and the number of\n",
        "iterations is unknown.\n",
        "14. Describe a scenario where a while loop is more suitable than a for loop\n",
        "Answer:\n",
        "A while loop is more suitable when waiting for a user to input a correct value. For example:\n",
        "password = \"\" while password != \"admin123\": password = input(\"Enter password: \")\n",
        "print(\"Access granted\")  \n",
        "Here, the loop continues until the correct password is entered, and the number of attempts is\n",
        "unknown.\n",
        "Want to turn this into a mini flashcard set or quiz format for practice?"
      ],
      "metadata": {
        "id": "gecdCjAxBJMt"
      }
    },
    {
      "cell_type": "markdown",
      "source": [
        "write python program to print hello world"
      ],
      "metadata": {
        "id": "J__2NY7DBJsY"
      }
    },
    {
      "cell_type": "code",
      "source": [
        "print(\"hello world\")"
      ],
      "metadata": {
        "colab": {
          "base_uri": "https://localhost:8080/"
        },
        "id": "-_Zfw_rfot_j",
        "outputId": "60445359-560c-40ef-943e-21f8ffe813cb"
      },
      "execution_count": 2,
      "outputs": [
        {
          "output_type": "stream",
          "name": "stdout",
          "text": [
            "hello world\n"
          ]
        }
      ]
    },
    {
      "cell_type": "markdown",
      "source": [],
      "metadata": {
        "id": "KZmLudXYx1oz"
      }
    },
    {
      "cell_type": "markdown",
      "source": [],
      "metadata": {
        "id": "JHpAD-dKx2yC"
      }
    },
    {
      "cell_type": "markdown",
      "source": [],
      "metadata": {
        "id": "YkvU0JyDx4Q4"
      }
    },
    {
      "cell_type": "markdown",
      "source": [],
      "metadata": {
        "id": "Dvc5MhFfx4UP"
      }
    },
    {
      "cell_type": "markdown",
      "source": [
        " Write a Python program that displays your name and age"
      ],
      "metadata": {
        "id": "OgPk7CEpo0xp"
      }
    },
    {
      "cell_type": "code",
      "source": [
        "print(\"name : kartikesh \")\n",
        "print(\"age:21\")"
      ],
      "metadata": {
        "id": "WqgJjGr6o1mf"
      },
      "execution_count": null,
      "outputs": []
    },
    {
      "cell_type": "markdown",
      "source": [
        "Write code to print all the pre-defined keywords in Python using the keyword library"
      ],
      "metadata": {
        "id": "JJdUiXN0pF-r"
      }
    },
    {
      "cell_type": "code",
      "source": [
        "import keyword\n",
        "print(keyword.kwlist)"
      ],
      "metadata": {
        "colab": {
          "base_uri": "https://localhost:8080/"
        },
        "id": "6oTlkpOPpL06",
        "outputId": "358022c5-4d14-4e92-a7fb-77d0af61e7fd"
      },
      "execution_count": 3,
      "outputs": [
        {
          "output_type": "stream",
          "name": "stdout",
          "text": [
            "['False', 'None', 'True', 'and', 'as', 'assert', 'async', 'await', 'break', 'class', 'continue', 'def', 'del', 'elif', 'else', 'except', 'finally', 'for', 'from', 'global', 'if', 'import', 'in', 'is', 'lambda', 'nonlocal', 'not', 'or', 'pass', 'raise', 'return', 'try', 'while', 'with', 'yield']\n"
          ]
        }
      ]
    },
    {
      "cell_type": "markdown",
      "source": [
        " Write a program that checks if a given word is a Python keyword."
      ],
      "metadata": {
        "id": "KsaZB_G0yCuK"
      }
    },
    {
      "cell_type": "code",
      "source": [
        "\n",
        "import keyword\n",
        "word = input(\"enter word\")\n",
        "if word in keyword.kwlist:\n",
        "  print(\"its a keyword\")\n",
        "else:\n",
        "  print(\"its not a keyword\")"
      ],
      "metadata": {
        "colab": {
          "base_uri": "https://localhost:8080/"
        },
        "id": "R8SWMwBCyIUo",
        "outputId": "983bc701-3302-4e19-9740-d900a8a34e34"
      },
      "execution_count": 7,
      "outputs": [
        {
          "output_type": "stream",
          "name": "stdout",
          "text": [
            "enter wordif\n",
            "its a keyword\n"
          ]
        }
      ]
    },
    {
      "cell_type": "code",
      "source": [],
      "metadata": {
        "id": "naf5_thw1zJy"
      },
      "execution_count": null,
      "outputs": []
    },
    {
      "cell_type": "markdown",
      "source": [
        "Create a list and tuple in Python, and demonstrate how attempting to change an element works differently\n",
        "for each."
      ],
      "metadata": {
        "id": "FUgmxoX-11TJ"
      }
    },
    {
      "cell_type": "code",
      "source": [
        "list_ex = [1,2,3,4,5,6]\n",
        "tuple_ex = (1,2,3,4,5,6)\n",
        "\n",
        "list_ex[0] = 3\n",
        "print(\"modified list\" , list_ex)\n",
        "\n",
        "tuple_ex[0] = 3\n",
        "print(tuple_ex)\n",
        "#this shows error becuse tupple are imputable"
      ],
      "metadata": {
        "colab": {
          "base_uri": "https://localhost:8080/",
          "height": 219
        },
        "id": "GkWuYWEX12v6",
        "outputId": "d3c70ed6-7e27-46ea-80ee-b618c25c8ecc"
      },
      "execution_count": 8,
      "outputs": [
        {
          "output_type": "stream",
          "name": "stdout",
          "text": [
            "modified list [3, 2, 3, 4, 5, 6]\n"
          ]
        },
        {
          "output_type": "error",
          "ename": "TypeError",
          "evalue": "'tuple' object does not support item assignment",
          "traceback": [
            "\u001b[0;31m---------------------------------------------------------------------------\u001b[0m",
            "\u001b[0;31mTypeError\u001b[0m                                 Traceback (most recent call last)",
            "\u001b[0;32m/tmp/ipython-input-1877424608.py\u001b[0m in \u001b[0;36m<cell line: 0>\u001b[0;34m()\u001b[0m\n\u001b[1;32m      5\u001b[0m \u001b[0mprint\u001b[0m\u001b[0;34m(\u001b[0m\u001b[0;34m\"modified list\"\u001b[0m \u001b[0;34m,\u001b[0m \u001b[0mlist_ex\u001b[0m\u001b[0;34m)\u001b[0m\u001b[0;34m\u001b[0m\u001b[0;34m\u001b[0m\u001b[0m\n\u001b[1;32m      6\u001b[0m \u001b[0;34m\u001b[0m\u001b[0m\n\u001b[0;32m----> 7\u001b[0;31m \u001b[0mtuple_ex\u001b[0m\u001b[0;34m[\u001b[0m\u001b[0;36m0\u001b[0m\u001b[0;34m]\u001b[0m \u001b[0;34m=\u001b[0m \u001b[0;36m3\u001b[0m\u001b[0;34m\u001b[0m\u001b[0;34m\u001b[0m\u001b[0m\n\u001b[0m\u001b[1;32m      8\u001b[0m \u001b[0mprint\u001b[0m\u001b[0;34m(\u001b[0m\u001b[0mtuple_ex\u001b[0m\u001b[0;34m)\u001b[0m\u001b[0;34m\u001b[0m\u001b[0;34m\u001b[0m\u001b[0m\n",
            "\u001b[0;31mTypeError\u001b[0m: 'tuple' object does not support item assignment"
          ]
        }
      ]
    },
    {
      "cell_type": "markdown",
      "source": [
        " Write a function to demonstrate the behavior of mutable and immutable arguments"
      ],
      "metadata": {
        "id": "etchQAK73MRv"
      }
    },
    {
      "cell_type": "markdown",
      "source": [],
      "metadata": {
        "id": "at_y3TFK2z25"
      }
    },
    {
      "cell_type": "code",
      "source": [
        " Write a program that performs basic arithmetic operations on two user-input numbers."
      ],
      "metadata": {
        "id": "b87A05kG2wjq"
      },
      "execution_count": null,
      "outputs": []
    },
    {
      "cell_type": "code",
      "source": [
        "a = int(input(\"enter first digit\"))\n",
        "b = int(input(\"enter second digit\"))\n",
        "print(\"addition\",a+b)\n",
        "print(\"subtraction\",a-b)\n",
        "print(\"multiplication\",a*b)\n",
        "print(\"division\",a/b)"
      ],
      "metadata": {
        "id": "k59ZdH_m28pU"
      },
      "execution_count": null,
      "outputs": []
    },
    {
      "cell_type": "code",
      "source": [],
      "metadata": {
        "id": "UykdTkj13Txt"
      },
      "execution_count": null,
      "outputs": []
    },
    {
      "cell_type": "markdown",
      "source": [
        " Write a program to demonstrate the use of logical operators"
      ],
      "metadata": {
        "id": "QcO_Zg0y3dag"
      }
    },
    {
      "cell_type": "code",
      "source": [
        "a = True\n",
        "b = False\n",
        "\n",
        "print(a and b)\n",
        "print( a or b)\n",
        "print( not a)"
      ],
      "metadata": {
        "colab": {
          "base_uri": "https://localhost:8080/"
        },
        "id": "y-x1GPXX3eTC",
        "outputId": "a40a9a94-4139-4b9b-e504-ba82007e4885"
      },
      "execution_count": 10,
      "outputs": [
        {
          "output_type": "stream",
          "name": "stdout",
          "text": [
            "False\n",
            "True\n",
            "False\n"
          ]
        }
      ]
    },
    {
      "cell_type": "markdown",
      "source": [
        ". Write a Python program to convert user input from string to integer, float, and boolean types."
      ],
      "metadata": {
        "id": "fTHUR_Na4TWH"
      }
    },
    {
      "cell_type": "code",
      "source": [
        "a = input(\"enter a string\")\n",
        "print(int(a))\n",
        "print(float(a))\n",
        "print(bool(a))"
      ],
      "metadata": {
        "id": "P2bC8vy14b1q"
      },
      "execution_count": null,
      "outputs": []
    },
    {
      "cell_type": "markdown",
      "source": [
        " Write code to demonstrate type casting with list elements."
      ],
      "metadata": {
        "id": "qUWtw4ms4hOr"
      }
    },
    {
      "cell_type": "code",
      "source": [
        "a = [1,2,3,4,5,6]\n",
        "st = [str(i) for i in a ]\n",
        "print(\"into string\",st)\n",
        "\n",
        "fl = [float(i) for i in a]\n",
        "print(\"into float\",fl)\n",
        "\n",
        "bo = [bool(i) for i in a]\n",
        "print(\"into boolean\",bo)\n",
        "\n",
        "\n"
      ],
      "metadata": {
        "colab": {
          "base_uri": "https://localhost:8080/"
        },
        "id": "s0nnek9S4me6",
        "outputId": "68f64255-ffd1-435d-893c-f3fb82c153c7"
      },
      "execution_count": 16,
      "outputs": [
        {
          "output_type": "stream",
          "name": "stdout",
          "text": [
            "into string ['1', '2', '3', '4', '5', '6']\n",
            "into float [1.0, 2.0, 3.0, 4.0, 5.0, 6.0]\n",
            "into boolean [True, True, True, True, True, True]\n"
          ]
        }
      ]
    },
    {
      "cell_type": "markdown",
      "source": [
        " Write a program that checks if a number is positive, negative, or zero"
      ],
      "metadata": {
        "id": "ZchhPFct6vu9"
      }
    },
    {
      "cell_type": "code",
      "source": [
        "a = int(input(\"enter a number\"))\n",
        "if a > 0:\n",
        "  print(\"positive\")\n",
        "elif a < 0:\n",
        "  print(\"negative\")\n",
        "else:\n",
        "  print(\"zero\")"
      ],
      "metadata": {
        "id": "Z98IvBi-6vZ6"
      },
      "execution_count": null,
      "outputs": []
    },
    {
      "cell_type": "markdown",
      "source": [
        ". Write a for loop to print numbers from 1 to 10."
      ],
      "metadata": {
        "id": "4T6MLcWk65yx"
      }
    },
    {
      "cell_type": "code",
      "source": [
        "i = 1\n",
        "while i <= 10 :\n",
        "  print(i)\n",
        "  i+=1"
      ],
      "metadata": {
        "colab": {
          "base_uri": "https://localhost:8080/"
        },
        "id": "jaLM_uIQ660S",
        "outputId": "f45f40d3-609b-4ca9-e109-4dcac5896269"
      },
      "execution_count": 19,
      "outputs": [
        {
          "output_type": "stream",
          "name": "stdout",
          "text": [
            "1\n",
            "2\n",
            "3\n",
            "4\n",
            "5\n",
            "6\n",
            "7\n",
            "8\n",
            "9\n",
            "10\n"
          ]
        }
      ]
    },
    {
      "cell_type": "markdown",
      "source": [
        "13. Write a Python program to find the sum of all even numbers between 1 and 50"
      ],
      "metadata": {
        "id": "CGj62cH18Yug"
      }
    },
    {
      "cell_type": "code",
      "source": [
        "e = 0\n",
        "for i in range(1,51):\n",
        "  if i % 2 ==0:\n",
        "    e+= i\n",
        "print(e)\n"
      ],
      "metadata": {
        "colab": {
          "base_uri": "https://localhost:8080/"
        },
        "id": "lYcpUjQ_8N4e",
        "outputId": "5d12d7e9-f78d-45f6-a85c-eadf428dc4db"
      },
      "execution_count": 20,
      "outputs": [
        {
          "output_type": "stream",
          "name": "stdout",
          "text": [
            "650\n"
          ]
        }
      ]
    },
    {
      "cell_type": "markdown",
      "source": [
        "14. Write a program to reverse a string using a while loop."
      ],
      "metadata": {
        "id": "psz0fWm89DN5"
      }
    },
    {
      "cell_type": "code",
      "source": [
        "a = \"hello world\"\n",
        "reverse = \"\"\n",
        "\n",
        "i = len(a)-1\n",
        "while i >= 0:\n",
        "  reverse += a[i]\n",
        "  i-=1\n",
        "print(reverse)\n",
        "\n"
      ],
      "metadata": {
        "colab": {
          "base_uri": "https://localhost:8080/"
        },
        "id": "Q7Ked3gw9EIe",
        "outputId": "5754ef4e-6539-4364-cc4b-6e1f3c1cf066"
      },
      "execution_count": 26,
      "outputs": [
        {
          "output_type": "stream",
          "name": "stdout",
          "text": [
            "dlrow olleh\n"
          ]
        }
      ]
    },
    {
      "cell_type": "markdown",
      "source": [
        "Write a Python program to calculate the factorial of a number provided by the user using a while loop"
      ],
      "metadata": {
        "id": "JzgC8Egp_Q8t"
      }
    },
    {
      "cell_type": "code",
      "source": [
        "a = int(input(\"enter number:\"))\n",
        "fi = 1\n",
        "while a > 0:\n",
        "        fi *= a\n",
        "        a -= 1\n",
        "print(fi)"
      ],
      "metadata": {
        "colab": {
          "base_uri": "https://localhost:8080/"
        },
        "id": "WzYHIdnh_Rky",
        "outputId": "cf0afa4b-b1e9-4c99-9ac3-202d332cbb1b"
      },
      "execution_count": 32,
      "outputs": [
        {
          "output_type": "stream",
          "name": "stdout",
          "text": [
            "enter number:4\n",
            "24\n"
          ]
        }
      ]
    },
    {
      "cell_type": "code",
      "source": [],
      "metadata": {
        "id": "683XN5vBARJh"
      },
      "execution_count": null,
      "outputs": []
    }
  ]
}